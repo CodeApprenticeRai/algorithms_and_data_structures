{
 "cells": [
  {
   "cell_type": "code",
   "execution_count": 25,
   "metadata": {},
   "outputs": [],
   "source": [
    "import math\n",
    "\n",
    "def binarySearch(s_list, item):\n",
    "    #Start at halfway\n",
    "    \n",
    "    n = len(s_list)\n",
    "    \n",
    "    i = math.floor( n/2 )\n",
    "    \n",
    "    \n",
    "    if s_list[i] == item:\n",
    "        return True\n",
    "    \n",
    "    if i == 1:\n",
    "        return False\n",
    "    \n",
    "    elif item > s_list[i]:\n",
    "        return binarySearch(s_list[i:], item)\n",
    "    \n",
    "    elif item < s_list[i]:\n",
    "        return binarySearch(s_list[:i], item)\n",
    "    \n",
    "    return \"Item not found\"\n",
    "    \n",
    "    "
   ]
  },
  {
   "cell_type": "code",
   "execution_count": 27,
   "metadata": {
    "scrolled": true
   },
   "outputs": [
    {
     "name": "stdout",
     "output_type": "stream",
     "text": [
      "[84, 75, 42, 25, 51, 40, 78, 30, 47, 58]\n",
      "True\n"
     ]
    }
   ],
   "source": [
    "import random\n",
    "\n",
    "random.seed(0)\n",
    "my_list = [ int(random.random() * 100) for i in range(10)]\n",
    "\n",
    "print(my_list)\n",
    "print(binarySearch(sorted(my_list), 30))"
   ]
  },
  {
   "cell_type": "code",
   "execution_count": 21,
   "metadata": {},
   "outputs": [
    {
     "data": {
      "text/plain": [
       "[25, 30, 40, 42, 47, 51, 58, 75, 78, 84]"
      ]
     },
     "execution_count": 21,
     "metadata": {},
     "output_type": "execute_result"
    }
   ],
   "source": [
    "sorted(my_list)"
   ]
  },
  {
   "cell_type": "code",
   "execution_count": null,
   "metadata": {},
   "outputs": [],
   "source": []
  }
 ],
 "metadata": {
  "kernelspec": {
   "display_name": "Python 3",
   "language": "python",
   "name": "python3"
  },
  "language_info": {
   "codemirror_mode": {
    "name": "ipython",
    "version": 3
   },
   "file_extension": ".py",
   "mimetype": "text/x-python",
   "name": "python",
   "nbconvert_exporter": "python",
   "pygments_lexer": "ipython3",
   "version": "3.6.4"
  }
 },
 "nbformat": 4,
 "nbformat_minor": 2
}
