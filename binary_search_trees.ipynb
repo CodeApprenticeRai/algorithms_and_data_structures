{
 "cells": [
  {
   "cell_type": "code",
   "execution_count": 11,
   "metadata": {},
   "outputs": [],
   "source": [
    "class Node(object):\n",
    "    def __init__(self, value=None):\n",
    "        self.value = value\n",
    "        self.left = None\n",
    "        self.right = None\n",
    "    \n",
    "    def add(self, value):\n",
    "        self.value = value\n",
    "        return\n",
    "    \n",
    "def insert(root, ivalue, debug=False):\n",
    "    if debug:\n",
    "        print(root.value)\n",
    "    if (root.value == None) or (root.value == ivalue):\n",
    "        root.value = ivalue\n",
    "        return root\n",
    "    \n",
    "    if (ivalue > root.value):\n",
    "        if type(root.right) != type(Node()):\n",
    "            root.right = Node()\n",
    "        return insert(root.right, ivalue)    \n",
    "    else:\n",
    "        if type(root.left) != type(Node()):\n",
    "            root.left = Node()\n",
    "        return insert(root.left, ivalue)\n",
    "\n",
    "    \n",
    "\n",
    "def search(self, root, svalue):\n",
    "    if (root.value == None) or (root.value == svalue):\n",
    "        root.value = svalue\n",
    "        print(\"find as a child of node with value {}\".format(root.value))\n",
    "        return \n",
    "    \n",
    "    if (ivalue > root.value):\n",
    "        return search(root.right, svalue)    \n",
    "    else:\n",
    "        return search(root.left, svalue)\n",
    "\n",
    "    "
   ]
  },
  {
   "cell_type": "code",
   "execution_count": 12,
   "metadata": {},
   "outputs": [
    {
     "name": "stdout",
     "output_type": "stream",
     "text": [
      "120\n"
     ]
    },
    {
     "data": {
      "text/plain": [
       "[<__main__.Node at 0x755ac10>]"
      ]
     },
     "execution_count": 12,
     "metadata": {},
     "output_type": "execute_result"
    }
   ],
   "source": [
    "tree = [Node()]\n",
    "root = tree[0]\n",
    "\n",
    "insert(tree[0], 120)\n",
    "insert(root, 11)\n",
    "insert(root, 4, debug=True)\n",
    "\n",
    "\n",
    "tree"
   ]
  },
  {
   "cell_type": "code",
   "execution_count": 10,
   "metadata": {},
   "outputs": [
    {
     "data": {
      "text/plain": [
       "0.61737704647007474"
      ]
     },
     "execution_count": 10,
     "metadata": {},
     "output_type": "execute_result"
    }
   ],
   "source": [
    "import numpy as np\n",
    "\n",
    "np.random.random(1)[0]"
   ]
  },
  {
   "cell_type": "code",
   "execution_count": null,
   "metadata": {},
   "outputs": [],
   "source": []
  }
 ],
 "metadata": {
  "kernelspec": {
   "display_name": "Python 3",
   "language": "python",
   "name": "python3"
  },
  "language_info": {
   "codemirror_mode": {
    "name": "ipython",
    "version": 3
   },
   "file_extension": ".py",
   "mimetype": "text/x-python",
   "name": "python",
   "nbconvert_exporter": "python",
   "pygments_lexer": "ipython3",
   "version": "3.6.3"
  }
 },
 "nbformat": 4,
 "nbformat_minor": 2
}
