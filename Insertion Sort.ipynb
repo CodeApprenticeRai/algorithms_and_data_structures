{
 "cells": [
  {
   "cell_type": "code",
   "execution_count": 17,
   "metadata": {},
   "outputs": [
    {
     "name": "stdout",
     "output_type": "stream",
     "text": [
      "[54, 71, 60, 54, 42, 64, 43, 89, 96, 38, 79, 52, 56, 92, 7]\n"
     ]
    },
    {
     "data": {
      "text/plain": [
       "[7, 38, 42, 43, 52, 54, 54, 56, 60, 64, 71, 79, 89, 92, 96]"
      ]
     },
     "execution_count": 17,
     "metadata": {},
     "output_type": "execute_result"
    }
   ],
   "source": [
    "import numpy as np\n",
    "\n",
    "nums =  []\n",
    "\n",
    "np.random.seed(0)\n",
    "\n",
    "[ nums.append(int(100*np.random.random(1)[0])) for i in range(15)]\n",
    "\n",
    "def insertion_sort(num_array):\n",
    "    for i in range(1,len(num_array)):  \n",
    "        while (i >= 1) and (num_array[i] < num_array[i-1]):\n",
    "            being_replaced = num_array[i-1]\n",
    "            num_array[i-1] = num_array[i]\n",
    "            num_array[i] = being_replaced\n",
    "            i -= 1\n",
    "\n",
    "            \n",
    "print(nums)\n",
    "insertion_sort(nums)\n",
    "\n",
    "nums"
   ]
  },
  {
   "cell_type": "code",
   "execution_count": null,
   "metadata": {},
   "outputs": [],
   "source": []
  }
 ],
 "metadata": {
  "kernelspec": {
   "display_name": "Python 3",
   "language": "python",
   "name": "python3"
  },
  "language_info": {
   "codemirror_mode": {
    "name": "ipython",
    "version": 3
   },
   "file_extension": ".py",
   "mimetype": "text/x-python",
   "name": "python",
   "nbconvert_exporter": "python",
   "pygments_lexer": "ipython3",
   "version": "3.6.3"
  }
 },
 "nbformat": 4,
 "nbformat_minor": 2
}
