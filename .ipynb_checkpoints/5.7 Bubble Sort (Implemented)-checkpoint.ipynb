{
 "cells": [
  {
   "cell_type": "code",
   "execution_count": 10,
   "metadata": {},
   "outputs": [],
   "source": [
    "def bubbleSort(s_list):\n",
    "\n",
    "    for i in range(len(s_list)-1, 0, -1):\n",
    "        for j in range(i):\n",
    "            if s_list[j] > s_list[j+1]:\n",
    "                holder = s_list[j+1]\n",
    "                s_list[j+1] = s_list[j]\n",
    "                s_list[j] = holder\n",
    "            \n",
    "    sorted_list = s_list\n",
    "    return sorted_list"
   ]
  },
  {
   "cell_type": "code",
   "execution_count": 17,
   "metadata": {},
   "outputs": [
    {
     "name": "stdout",
     "output_type": "stream",
     "text": [
      "-3.925327746401308e-06\n"
     ]
    }
   ],
   "source": [
    "import random\n",
    "\n",
    "random.seed(0)\n",
    "\n",
    "\n",
    "my_list = [ int(random.random()* 100) for i in range(20)]\n",
    "\n",
    "from timeit import default_timer as timer\n",
    "before = timer()\n",
    "\n",
    "bubbleSort(my_list)\n",
    "after = timer()\n",
    "\n",
    "print( (before-after)/len(my_list))"
   ]
  },
  {
   "cell_type": "code",
   "execution_count": 4,
   "metadata": {},
   "outputs": [
    {
     "data": {
      "text/plain": [
       "True"
      ]
     },
     "execution_count": 4,
     "metadata": {},
     "output_type": "execute_result"
    }
   ],
   "source": []
  },
  {
   "cell_type": "code",
   "execution_count": null,
   "metadata": {},
   "outputs": [],
   "source": []
  }
 ],
 "metadata": {
  "kernelspec": {
   "display_name": "Python 3",
   "language": "python",
   "name": "python3"
  },
  "language_info": {
   "codemirror_mode": {
    "name": "ipython",
    "version": 3
   },
   "file_extension": ".py",
   "mimetype": "text/x-python",
   "name": "python",
   "nbconvert_exporter": "python",
   "pygments_lexer": "ipython3",
   "version": "3.6.4"
  }
 },
 "nbformat": 4,
 "nbformat_minor": 2
}
