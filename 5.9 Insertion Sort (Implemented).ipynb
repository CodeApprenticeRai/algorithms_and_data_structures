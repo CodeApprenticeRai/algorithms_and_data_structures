{
 "cells": [
  {
   "cell_type": "code",
   "execution_count": 16,
   "metadata": {},
   "outputs": [],
   "source": [
    "def insertion_sort(a_list):\n",
    "    for i in range(1, len(a_list)):\n",
    "        c_val = a_list[i]\n",
    "        pos = i\n",
    "        \n",
    "        while pos > 0 and a_list[pos-1] > c_val:\n",
    "            a_list[pos] = a_list[pos-1]\n",
    "            pos = pos - 1\n",
    "            \n",
    "        a_list[pos] = c_val \n",
    "\n",
    "    return a_list\n"
   ]
  },
  {
   "cell_type": "code",
   "execution_count": 17,
   "metadata": {},
   "outputs": [
    {
     "name": "stdout",
     "output_type": "stream",
     "text": [
      "[84, 75, 42, 25, 51, 40, 78, 30, 47, 58, 90, 50, 28, 75, 61, 25, 90, 98, 81, 90]\n",
      "[25, 25, 28, 30, 40, 42, 47, 50, 51, 58, 61, 75, 75, 78, 81, 84, 90, 90, 90, 98]\n"
     ]
    }
   ],
   "source": [
    "import random\n",
    "\n",
    "random.seed(0)\n",
    "my_list = [ int( random.random() * 100 ) for i in range(20)]\n",
    "\n",
    "print(my_list)\n",
    "print(insertion_sort(my_list))"
   ]
  },
  {
   "cell_type": "code",
   "execution_count": null,
   "metadata": {},
   "outputs": [],
   "source": []
  }
 ],
 "metadata": {
  "kernelspec": {
   "display_name": "Python 3",
   "language": "python",
   "name": "python3"
  },
  "language_info": {
   "codemirror_mode": {
    "name": "ipython",
    "version": 3
   },
   "file_extension": ".py",
   "mimetype": "text/x-python",
   "name": "python",
   "nbconvert_exporter": "python",
   "pygments_lexer": "ipython3",
   "version": "3.6.4"
  }
 },
 "nbformat": 4,
 "nbformat_minor": 2
}
