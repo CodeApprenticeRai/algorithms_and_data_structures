{
 "cells": [
  {
   "cell_type": "code",
   "execution_count": 10,
   "metadata": {},
   "outputs": [],
   "source": [
    "class Node:\n",
    "    def __init__(self, initdata):\n",
    "        self.data = initdata\n",
    "        self.prev = None\n",
    "    \n",
    "    def getData(self):\n",
    "        return self.data\n",
    "\n",
    "    def getPrev(self):\n",
    "        return self.prev\n",
    "    \n",
    "    def setData(self, newdata):\n",
    "        self.data = newdata\n",
    "     \n",
    "    def setPrev(self, newprevious):\n",
    "        self.prev = newprevious\n",
    "\n",
    "class UnorderedList:\n",
    "    def __init__(self):\n",
    "        self.head = None\n",
    "    \n",
    "    def isEmpty(self):\n",
    "        return self.head == None\n",
    "    \n",
    "    def add(self, newdata):\n",
    "        n = Node(newdata)\n",
    "        n.setPrev(self.head)\n",
    "        self.head = n\n",
    "\n",
    "    def printList(self, count=0):\n",
    "        current = self.head\n",
    "        \n",
    "        \n",
    "        while current != None:\n",
    "            print(current.getData())\n",
    "            count += 1\n",
    "            current = current.prev\n",
    "            \n",
    "        return\n",
    "    \n",
    "    def size(self, count=0):\n",
    "        current = self.head\n",
    "        \n",
    "        \n",
    "        while current != None:\n",
    "            count += 1\n",
    "            current = current.prev\n",
    "            \n",
    "        return count\n",
    "        \n",
    "    def search(self, item  ):\n",
    "        current = self.head\n",
    "        count= 0\n",
    "        found = False\n",
    "        \n",
    "        while not found:\n",
    "            \n",
    "            if current == None:\n",
    "                return False\n",
    "            \n",
    "            if current.getData() == item:\n",
    "                found = True \n",
    "                return(\"'{0}' found {1} nodes away from head node.\".format(item, count))\n",
    "            \n",
    "\n",
    "            \n",
    "            current = current.getPrev()\n",
    "            count += 1\n",
    "            \n",
    "    def remove(self, item):\n",
    "        current = self.head\n",
    "        found = False\n",
    "        \n",
    "        while not found:\n",
    "            \n",
    "            if current == None:\n",
    "                return \"Item Not Present in List\"\n",
    "            \n",
    "            #Search one node ahead for the node we want to remove\n",
    "            #n1-->n2...-->current--->node_being_removed--->next_node\n",
    "            if current.getPrev().getData() == item:\n",
    "                node_being_removed = current.getPrev()\n",
    "                \n",
    "                found = True \n",
    "                \n",
    "                #overwrite the node being removed with the node ahead of it\n",
    "                #n1-->n2...-->current--->next_node\n",
    "                current.setPrev( node_being_removed.getPrev() ) \n",
    "                return True\n",
    "            \n",
    "            current = current.getPrev()\n",
    " \n",
    "        "
   ]
  },
  {
   "cell_type": "code",
   "execution_count": 12,
   "metadata": {},
   "outputs": [
    {
     "data": {
      "text/plain": [
       "\"'51' found 5 nodes away from head node.\""
      ]
     },
     "execution_count": 12,
     "metadata": {},
     "output_type": "execute_result"
    }
   ],
   "source": [
    "import random as r\n",
    "\n",
    "r.seed(0)\n",
    "\n",
    "uol = UnorderedList()\n",
    "\n",
    "for i in range(10):\n",
    "    uol.add(int( r.random()*100) )\n",
    "\n",
    "uol.search(51)"
   ]
  },
  {
   "cell_type": "code",
   "execution_count": 13,
   "metadata": {},
   "outputs": [
    {
     "name": "stdout",
     "output_type": "stream",
     "text": [
      "58\n",
      "47\n",
      "30\n",
      "78\n",
      "40\n",
      "51\n",
      "25\n",
      "42\n",
      "75\n",
      "84\n",
      "\n",
      "58\n",
      "47\n",
      "30\n",
      "78\n",
      "40\n",
      "25\n",
      "42\n",
      "75\n",
      "84\n"
     ]
    }
   ],
   "source": [
    "uol.printList()\n",
    "uol.remove(51)\n",
    "print(\"\")\n",
    "uol.printList()"
   ]
  },
  {
   "cell_type": "code",
   "execution_count": null,
   "metadata": {},
   "outputs": [],
   "source": []
  }
 ],
 "metadata": {
  "kernelspec": {
   "display_name": "Python 3",
   "language": "python",
   "name": "python3"
  },
  "language_info": {
   "codemirror_mode": {
    "name": "ipython",
    "version": 3
   },
   "file_extension": ".py",
   "mimetype": "text/x-python",
   "name": "python",
   "nbconvert_exporter": "python",
   "pygments_lexer": "ipython3",
   "version": "3.6.4"
  }
 },
 "nbformat": 4,
 "nbformat_minor": 2
}
