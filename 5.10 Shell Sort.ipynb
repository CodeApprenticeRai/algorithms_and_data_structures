{
 "cells": [
  {
   "cell_type": "code",
   "execution_count": 15,
   "metadata": {},
   "outputs": [],
   "source": [
    "import math\n",
    "\n",
    "def shellSort(arr):\n",
    "    #chose a gap which is conventionally half the length of the list\n",
    "    n = len(arr)\n",
    "    gap = math.floor(n/2)\n",
    "    \n",
    "    # Since the gap will be decremented and will reach 0 when \n",
    "    # the list is sorted, keep sorting until gap == 0 \n",
    "    while gap > 0:\n",
    "        #\n",
    "        for i in range(gap, n):\n",
    "            \n",
    "            temp = arr[i]\n",
    "            j = i \n",
    "\n",
    "            while j >= gap and arr[j-gap] > temp:             \n",
    "                arr[j] = arr[j-gap]\n",
    "                arr[j-gap] = temp\n",
    "\n",
    "                j -= gap\n",
    "\n",
    "        gap = math.floor(gap/2)\n",
    "    \n",
    "    return arr\n",
    "\n",
    "## Break the list into sub-list based on the size of the original list\n",
    "\n",
    "## Use insertion sort to sort the sublists \n",
    "\n",
    "## \n"
   ]
  },
  {
   "cell_type": "code",
   "execution_count": 16,
   "metadata": {},
   "outputs": [
    {
     "name": "stdout",
     "output_type": "stream",
     "text": [
      "[84, 75, 42, 25, 51, 40, 78, 30, 47]\n"
     ]
    },
    {
     "data": {
      "text/plain": [
       "[25, 30, 40, 42, 47, 51, 75, 78, 84]"
      ]
     },
     "execution_count": 16,
     "metadata": {},
     "output_type": "execute_result"
    }
   ],
   "source": [
    "import random\n",
    "\n",
    "random.seed(0)\n",
    "\n",
    "test_data = [ int(random.random() * 100) for i in range(0,9) ]\n",
    "\n",
    "\n",
    "print(test_data)\n",
    "shellSort(test_data)"
   ]
  },
  {
   "cell_type": "code",
   "execution_count": 12,
   "metadata": {},
   "outputs": [
    {
     "name": "stdout",
     "output_type": "stream",
     "text": [
      "[25, 30, 30, 30, 30, 40, 40, 42, 78]\n"
     ]
    },
    {
     "data": {
      "text/plain": [
       "[25, 30, 30, 30, 30, 40, 40, 42, 78]"
      ]
     },
     "execution_count": 12,
     "metadata": {},
     "output_type": "execute_result"
    }
   ],
   "source": []
  },
  {
   "cell_type": "code",
   "execution_count": 19,
   "metadata": {},
   "outputs": [
    {
     "name": "stdout",
     "output_type": "stream",
     "text": [
      "6.194559091454721e-06\n"
     ]
    }
   ],
   "source": [
    "from timeit import default_timer as timer\n",
    "\n",
    "before = timer()\n",
    "\n",
    "shellSort(test_data)\n",
    "\n",
    "after = timer()\n",
    "\n",
    "print((after - before)/len(test_data))"
   ]
  },
  {
   "cell_type": "code",
   "execution_count": null,
   "metadata": {},
   "outputs": [],
   "source": []
  }
 ],
 "metadata": {
  "kernelspec": {
   "display_name": "Python 3",
   "language": "python",
   "name": "python3"
  },
  "language_info": {
   "codemirror_mode": {
    "name": "ipython",
    "version": 3
   },
   "file_extension": ".py",
   "mimetype": "text/x-python",
   "name": "python",
   "nbconvert_exporter": "python",
   "pygments_lexer": "ipython3",
   "version": "3.6.4"
  }
 },
 "nbformat": 4,
 "nbformat_minor": 2
}
