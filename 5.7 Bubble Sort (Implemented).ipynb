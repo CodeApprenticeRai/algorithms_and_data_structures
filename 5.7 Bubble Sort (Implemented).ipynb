{
 "cells": [
  {
   "cell_type": "code",
   "execution_count": 10,
   "metadata": {},
   "outputs": [],
   "source": [
    "def bubbleSort(s_list):\n",
    "\n",
    "    for i in range(len(s_list)-1, 0, -1):\n",
    "        for j in range(i):\n",
    "            if s_list[j] > s_list[j+1]:\n",
    "                holder = s_list[j+1]\n",
    "                s_list[j+1] = s_list[j]\n",
    "                s_list[j] = holder\n",
    "            \n",
    "    sorted_list = s_list\n",
    "    return sorted_list"
   ]
  },
  {
   "cell_type": "code",
   "execution_count": 1,
   "metadata": {},
   "outputs": [],
   "source": [
    "#Trying to do remember the algorithm, so I'm writing it over from memory\n",
    "def bbSort(arr):\n",
    "    n = len(arr)\n",
    "    passes = 0 \n",
    "    swaps = True\n",
    "    \n",
    "    while n !=0 and s:\n",
    "        for i in range(1,n):\n",
    "            if arr[i-1] > arr[i]:\n",
    "                temp = arr[i-1] \n",
    "                arr[i-1] = arr[i]\n",
    "                arr[i] = temp\n",
    "        \n",
    "        n = n - 1\n",
    "    \n",
    "    return arr\n",
    "    "
   ]
  },
  {
   "cell_type": "code",
   "execution_count": 2,
   "metadata": {},
   "outputs": [
    {
     "name": "stdout",
     "output_type": "stream",
     "text": [
      "[84, 75, 42, 25, 51, 40, 78, 30, 47, 58, 90, 50, 28, 75, 61, 25, 90, 98, 81, 90]\n"
     ]
    },
    {
     "data": {
      "text/plain": [
       "[25,\n",
       " 25,\n",
       " 28,\n",
       " 30,\n",
       " 40,\n",
       " 42,\n",
       " 47,\n",
       " 50,\n",
       " 51,\n",
       " 58,\n",
       " 61,\n",
       " 75,\n",
       " 75,\n",
       " 78,\n",
       " 81,\n",
       " 84,\n",
       " 90,\n",
       " 90,\n",
       " 90,\n",
       " 98]"
      ]
     },
     "execution_count": 2,
     "metadata": {},
     "output_type": "execute_result"
    }
   ],
   "source": [
    "import random\n",
    "\n",
    "random.seed(0)\n",
    "my_list = [ int(random.random()* 100) for i in range(20)]\n",
    "\n",
    "print(my_list)\n",
    "\n",
    "bbSort(my_list)"
   ]
  },
  {
   "cell_type": "code",
   "execution_count": 17,
   "metadata": {},
   "outputs": [
    {
     "name": "stdout",
     "output_type": "stream",
     "text": [
      "-3.925327746401308e-06\n"
     ]
    }
   ],
   "source": [
    "#Timing the algorithm\n",
    "from timeit import default_timer as timer\n",
    "before = timer()\n",
    "\n",
    "bubbleSort(my_list)\n",
    "after = timer()\n",
    "\n",
    "print( (before-after)/len(my_list))"
   ]
  },
  {
   "cell_type": "code",
   "execution_count": null,
   "metadata": {},
   "outputs": [],
   "source": []
  }
 ],
 "metadata": {
  "kernelspec": {
   "display_name": "Python 3",
   "language": "python",
   "name": "python3"
  },
  "language_info": {
   "codemirror_mode": {
    "name": "ipython",
    "version": 3
   },
   "file_extension": ".py",
   "mimetype": "text/x-python",
   "name": "python",
   "nbconvert_exporter": "python",
   "pygments_lexer": "ipython3",
   "version": "3.6.4"
  }
 },
 "nbformat": 4,
 "nbformat_minor": 2
}
