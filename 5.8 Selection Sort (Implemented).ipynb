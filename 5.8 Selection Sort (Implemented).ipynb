{
 "cells": [
  {
   "cell_type": "code",
   "execution_count": 5,
   "metadata": {},
   "outputs": [],
   "source": [
    "def selectionSort(a_list):\n",
    "    for decreasing_max_index in range(len(a_list)-1, 0, -1):\n",
    "        index_of_largest_num = 0\n",
    "        for i in range(1, decreasing_max_index):\n",
    "            if a_list[i]> a_list[index_of_largest_num]:\n",
    "                index_of_largest_num = i\n",
    "        \n",
    "        temp_holder = a_list[decreasing_max_index]\n",
    "        a_list[decreasing_max_index] = a_list[index_of_largest_num]\n",
    "        a_lisvt[index_of_largest_num] = temp_holder\n",
    "        \n",
    "    return a_list"
   ]
  },
  {
   "cell_type": "code",
   "execution_count": 6,
   "metadata": {},
   "outputs": [
    {
     "data": {
      "text/plain": [
       "[25,\n",
       " 25,\n",
       " 28,\n",
       " 30,\n",
       " 40,\n",
       " 42,\n",
       " 47,\n",
       " 50,\n",
       " 61,\n",
       " 51,\n",
       " 58,\n",
       " 75,\n",
       " 75,\n",
       " 78,\n",
       " 81,\n",
       " 90,\n",
       " 84,\n",
       " 90,\n",
       " 90,\n",
       " 98]"
      ]
     },
     "execution_count": 6,
     "metadata": {},
     "output_type": "execute_result"
    }
   ],
   "source": [
    "import random\n",
    "\n",
    "random.seed(0)\n",
    "my_list = [ int( random.random() * 100 ) for i in range(20)]\n",
    "\n",
    "selectionSort(my_list)"
   ]
  },
  {
   "cell_type": "code",
   "execution_count": null,
   "metadata": {},
   "outputs": [],
   "source": []
  }
 ],
 "metadata": {
  "kernelspec": {
   "display_name": "Python 3",
   "language": "python",
   "name": "python3"
  },
  "language_info": {
   "codemirror_mode": {
    "name": "ipython",
    "version": 3
   },
   "file_extension": ".py",
   "mimetype": "text/x-python",
   "name": "python",
   "nbconvert_exporter": "python",
   "pygments_lexer": "ipython3",
   "version": "3.6.4"
  }
 },
 "nbformat": 4,
 "nbformat_minor": 2
}
